{
 "cells": [
  {
   "cell_type": "code",
   "execution_count": 1,
   "metadata": {},
   "outputs": [
    {
     "name": "stdout",
     "output_type": "stream",
     "text": [
      "Optimization terminated successfully.    (Exit mode 0)\n",
      "            Current function value: -6.151047584297397\n",
      "            Iterations: 68\n",
      "            Function evaluations: 2200\n",
      "            Gradient evaluations: 64\n"
     ]
    }
   ],
   "source": [
    "import numpy as np # General numerics\n",
    "from scipy.integrate import odeint # Integration\n",
    "from scipy.optimize import minimize # Optimization\n",
    "import matplotlib.pyplot as plt # Plotting\n",
    "\n",
    "ns=16\n",
    "x10 = 1 \n",
    "x20 = 0.1\n",
    "x30 = 40\n",
    "x40 = 0\n",
    "x50 = 0\n",
    "x60 = 1\n",
    "x70 = 0\n",
    "x80 = 0\n",
    "w1=np.ones(ns)*0.5\n",
    "w2=np.ones(ns)*0.5\n",
    "w0=[]\n",
    "for d in range(2*len(w1)):\n",
    "    if d<len(w1):\n",
    "        w0.append(w1[d])\n",
    "    else:\n",
    "        w0.append(w2[d-ns])\n",
    "inte=2\n",
    "for i in range(1,inte):\n",
    "    t = np.linspace(0,10,ns+1)\n",
    "    def state(y,t,w1,w2):\n",
    "        x1,x2,x3,x4,x5,x6,x7,x8 = y\n",
    "        \n",
    "        f = [ w1+w2,\n",
    "            ((x3/(14.35+x3+(x3**2/111.5))*(x6+x7*0.22/(0.22+x5)))*x2-(w1+w2)*x2/x1),\n",
    "            (w1/x1*100-(w1+w2)*x3/x1-(x3/(14.35+x3+(x3**2/111.5))*(x6+x7*0.22/(0.22+x5)))*x2/0.51),\n",
    "            ((0.233*x3/(14.35+x3+(x3**2/111.5))*((0.0005+x5)/(0.022+x5)))*x2-(w1+w2)*x4/x1),\n",
    "            (w2*4/x1-(w1+w2)*x5/x1),\n",
    "            (-(0.09*x5/(0.034+x5))*x6),\n",
    "            ((0.09*x5/(0.034+x5))*(1-x7)),\n",
    "            w2]\n",
    "        \n",
    "        return f\n",
    "    def objective(w0):\n",
    "        y0 = [x10,x20,x30,x40,x50,x60,x70,x80]\n",
    "        for ks in range(0, ns):\n",
    "            sol = odeint(state,y0,np.linspace(t[ks],t[ks+1],20), args=(w0[ks],w0[ns+ks],), Dfun=None, col_deriv=0, full_output=0, ml=None, mu=None, rtol=None, atol=None, tcrit=None, h0=0.0, hmax=0.0, hmin=0.0, ixpr=0, mxstep=0, mxhnil=0, mxordn=12, mxords=5, printmessg=0, tfirst=False)\n",
    "            y0=sol[-1]\n",
    "        obj = -sol[-1][0]*sol[-1][3]+0*sol[-1][7]\n",
    "        return obj\n",
    "\n",
    "    \n",
    "    bnd=[]\n",
    "    for o in range(0,2*ns): \n",
    "        if o < ns:\n",
    "            bnd.append((0,1))\n",
    "        else:\n",
    "            bnd.append((0,1))\n",
    "    res = minimize(objective,w0,method='SLSQP', jac=None, bounds=bnd, constraints=(), tol=None, callback=None,options={'maxiter': 10000,'disp':True})\n",
    "    w0=[]\n",
    "    for o in range(0,ns): \n",
    "        w0.append(res.x[o])\n",
    "        w0.append(res.x[o])\n",
    "    ns=ns*2"
   ]
  },
  {
   "cell_type": "code",
   "execution_count": 2,
   "metadata": {},
   "outputs": [
    {
     "data": {
      "image/png": "[encoded data removed]",
      "text/plain": [
       "<Figure size 432x288 with 1 Axes>"
      ]
     },
     "metadata": {},
     "output_type": "display_data"
    }
   ],
   "source": [
    "plt.step(np.linspace(0,10,16),res.x[0:16],'bo',LineWidth=2)\n",
    "plt.show()"
   ]
  },
  {
   "cell_type": "code",
   "execution_count": 3,
   "metadata": {},
   "outputs": [
    {
     "data": {
      "image/png": "[encoded data removed]",
      "text/plain": [
       "<Figure size 432x288 with 1 Axes>"
      ]
     },
     "metadata": {},
     "output_type": "display_data"
    }
   ],
   "source": [
    "plt.step(np.linspace(0,10,16),res.x[16:32],'bo',LineWidth=2)\n",
    "plt.show()"
   ]
  },
  {
   "cell_type": "code",
   "execution_count": null,
   "metadata": {},
   "outputs": [],
   "source": []
  }
 ],
 "metadata": {
  "kernelspec": {
   "display_name": "Python 3",
   "language": "python",
   "name": "python3"
  },
  "language_info": {
   "codemirror_mode": {
    "name": "ipython",
    "version": 3
   },
   "file_extension": ".py",
   "mimetype": "text/x-python",
   "name": "python",
   "nbconvert_exporter": "python",
   "pygments_lexer": "ipython3",
   "version": "3.6.5"
  }
 },
 "nbformat": 4,
 "nbformat_minor": 2
}
